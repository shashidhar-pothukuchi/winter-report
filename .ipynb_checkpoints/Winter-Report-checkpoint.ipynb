{
 "cells": [
  {
   "cell_type": "markdown",
   "id": "c57f9f01",
   "metadata": {},
   "source": [
    "# Report - Winter Break\n",
    "\n",
    "This file contains the report for research done during winter break "
   ]
  },
  {
   "cell_type": "markdown",
   "id": "c327df54",
   "metadata": {},
   "source": [
    "## 1. Constituent parser \n",
    "\n",
    " - Constituent parser - definition and related study\n",
    " - Constituent parser vs dependancy parser \n",
    " - combination of nlp background and linguistic background\n",
    " \n"
   ]
  },
  {
   "cell_type": "code",
   "execution_count": 1,
   "id": "847a627d",
   "metadata": {},
   "outputs": [],
   "source": [
    "# Related work and text"
   ]
  },
  {
   "cell_type": "markdown",
   "id": "28ffd170",
   "metadata": {},
   "source": [
    "### Constituent parser\n",
    "\n",
    "#### Definition\n",
    "\n",
    "A constituent parser is a syntactic parsing algorithms which analyzes the grammatical structure of sentences and identify syntactic constituents. \n",
    "\n",
    "\n",
    "These constituents are hierarchical, nested structures representing different grammatical units within a sentence, such as phrases and clauses.\n",
    "\n",
    "\n",
    "The parser identifies and labels constituents in the sentence according to the grammar rules. Constituents typically include noun phrases (NP), verb phrases (VP), prepositional phrases (PP), and so on.\n",
    "\n",
    "\n",
    "Common parsing algorithms are recursive descent, Earley parsing, and probabilistic context-free grammar (PCFG) parsing.\n",
    "\n",
    "\n",
    "\n",
    "\n",
    "---\n",
    "\n",
    "Blog source - [Article](https://www.baeldung.com/cs/constituency-vs-dependency-parsing)\n",
    "\n",
    "Video source - [Youtube](https://www.youtube.com/watch?v=El4r91dgCTQ&list=PLr9TFf9GjancAHiiP5cqGmYsZad99Uf_h&index=9)"
   ]
  },
  {
   "cell_type": "markdown",
   "id": "ef913fd0",
   "metadata": {},
   "source": [
    "## 2. Named Entity Recognition and Event Extraction \n",
    "\n",
    " - Get related background from mansur\n",
    " - Definitions and related study"
   ]
  },
  {
   "cell_type": "code",
   "execution_count": 2,
   "id": "1adcbe85",
   "metadata": {},
   "outputs": [],
   "source": [
    "# Related work and text"
   ]
  },
  {
   "cell_type": "markdown",
   "id": "432e195c",
   "metadata": {},
   "source": [
    "## 3. Own Research\n",
    "\n",
    " - Read the research paper related to neural attention based aspect extraction\n",
    " - Learn Pytorch, basics\n",
    " - stanford core nlp. Try to play with parser code."
   ]
  },
  {
   "cell_type": "code",
   "execution_count": 3,
   "id": "9672d80e",
   "metadata": {},
   "outputs": [],
   "source": [
    "# Related work and text"
   ]
  },
  {
   "cell_type": "markdown",
   "id": "1dfbc459",
   "metadata": {},
   "source": [
    " ### Research paper\n",
    " - Read the research paper - An unsupervised Neural Attention Model for Aspect Extraction\n",
    " - Highlighted the important points and made notes.\n",
    " - paper can be found here - [Paper](aspect-extraction-paper.pdf)"
   ]
  },
  {
   "cell_type": "markdown",
   "id": "ce615308",
   "metadata": {},
   "source": []
  }
 ],
 "metadata": {
  "kernelspec": {
   "display_name": "Python 3 (ipykernel)",
   "language": "python",
   "name": "python3"
  },
  "language_info": {
   "codemirror_mode": {
    "name": "ipython",
    "version": 3
   },
   "file_extension": ".py",
   "mimetype": "text/x-python",
   "name": "python",
   "nbconvert_exporter": "python",
   "pygments_lexer": "ipython3",
   "version": "3.10.9"
  }
 },
 "nbformat": 4,
 "nbformat_minor": 5
}
