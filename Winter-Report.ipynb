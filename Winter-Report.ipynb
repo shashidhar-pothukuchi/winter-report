{
 "cells": [
  {
   "cell_type": "markdown",
   "id": "c57f9f01",
   "metadata": {},
   "source": [
    "# Report - Winter Break\n",
    "\n",
    "This file contains the report for research done during winter break "
   ]
  },
  {
   "cell_type": "markdown",
   "id": "c327df54",
   "metadata": {},
   "source": [
    "## 1. Constituent parser \n",
    "\n",
    " - Constituent parser - definition and related study\n",
    " - Constituent parser vs dependancy parser \n",
    " - combination of nlp background and linguistic background\n",
    " \n"
   ]
  },
  {
   "cell_type": "code",
   "execution_count": 4,
   "id": "847a627d",
   "metadata": {},
   "outputs": [],
   "source": [
    "# Related work and text"
   ]
  },
  {
   "cell_type": "markdown",
   "id": "ef913fd0",
   "metadata": {},
   "source": [
    "## 2. Named Entity Recognition and Event Extraction \n",
    "\n",
    " - Get related background from mansur\n",
    " - Definitions and related study"
   ]
  },
  {
   "cell_type": "code",
   "execution_count": 2,
   "id": "1adcbe85",
   "metadata": {},
   "outputs": [],
   "source": [
    "# Related work and text"
   ]
  },
  {
   "cell_type": "markdown",
   "id": "432e195c",
   "metadata": {},
   "source": [
    "## 3. Own Research\n",
    "\n",
    " - Read the research paper related to neural attention based aspect extraction\n",
    " - Learn Pytorch, basics\n",
    " - stanford core nlp. Try to play with parser code."
   ]
  },
  {
   "cell_type": "code",
   "execution_count": 3,
   "id": "9672d80e",
   "metadata": {},
   "outputs": [],
   "source": [
    "# Related work and text"
   ]
  },
  {
   "cell_type": "markdown",
   "id": "1dfbc459",
   "metadata": {},
   "source": []
  }
 ],
 "metadata": {
  "kernelspec": {
   "display_name": "Python 3 (ipykernel)",
   "language": "python",
   "name": "python3"
  },
  "language_info": {
   "codemirror_mode": {
    "name": "ipython",
    "version": 3
   },
   "file_extension": ".py",
   "mimetype": "text/x-python",
   "name": "python",
   "nbconvert_exporter": "python",
   "pygments_lexer": "ipython3",
   "version": "3.10.9"
  }
 },
 "nbformat": 4,
 "nbformat_minor": 5
}
